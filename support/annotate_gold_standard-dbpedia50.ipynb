{
 "cells": [
  {
   "cell_type": "markdown",
   "metadata": {},
   "source": [
    "# Annotation tool"
   ]
  },
  {
   "cell_type": "markdown",
   "metadata": {},
   "source": [
    "This tool is used to annotate links. The tool is configured to annotate fb15k and dbpedia."
   ]
  },
  {
   "cell_type": "markdown",
   "metadata": {},
   "source": [
    "First, specify the paths of the test files"
   ]
  },
  {
   "cell_type": "code",
   "execution_count": 20,
   "metadata": {},
   "outputs": [],
   "source": [
    "import pickle as pkl\n",
    "import numpy\n",
    "import torch\n",
    "import json\n",
    "import ipywidgets as widgets\n",
    "from ipywidgets import interact, Layout, ButtonStyle\n",
    "from IPython.display import Markdown\n",
    "import requests\n",
    "from time import sleep\n",
    "import random\n",
    "import datetime\n",
    "import os\n",
    "import urllib\n",
    "from functools import cmp_to_key"
   ]
  },
  {
   "cell_type": "code",
   "execution_count": 21,
   "metadata": {},
   "outputs": [],
   "source": [
    "main_folder = '/home/jurbani/data2/binary-embeddings/dbpedia50/'\n",
    "annotations_file = main_folder + \"annotations/gold-annotations.json\"\n",
    "testdata_raw_path = '/home/uji300/OpenKE/benchmarks/dbpedia50/test2id.txt'\n",
    "unmesh_annotations_path = '/var/scratch2/uji300/ijcai2021/binary-embeddings/dbpedia50/misc/annotations_unmesh_dbpedia50.json'\n",
    "annotator = 'U'\n",
    "#main_folder = '/Users/jacopo/Desktop/binary-embeddings/dbpedia50/'\n",
    "# The file where all the annotations are stored\n",
    "#annotations_file = '/Users/jacopo/Desktop/binary-embeddings/dbpedia50/annotations/gold-annotations.json'\n",
    "#testdata_raw_path = '/Users/jacopo/prj/OpenKE-unmesh/benchmarks/dbpedia50/test2id.txt'\n",
    "#unmesh_annotations_path = '/Users/jacopo/Desktop/binary-embeddings/dbpedia50/annotations/gold-annotations-unmesh.json'\n",
    "#annotator = 'J'"
   ]
  },
  {
   "cell_type": "code",
   "execution_count": 22,
   "metadata": {},
   "outputs": [],
   "source": [
    "testdata_folder = main_folder + 'answers/'\n",
    "testdata_transe_path_head = testdata_folder + 'dbpedia50-answers-transe-test-10-head.pkl'\n",
    "testdata_transe_path_tail = testdata_folder + 'dbpedia50-answers-transe-test-10-tail.pkl'\n",
    "testdata_complex_path_head = testdata_folder + 'dbpedia50-answers-complex-test-10-head.pkl'\n",
    "testdata_complex_path_tail = testdata_folder + 'dbpedia50-answers-complex-test-10-tail.pkl'\n",
    "testdata_rotate_path_head = testdata_folder + 'dbpedia50-answers-rotate-test-10-head.pkl'\n",
    "testdata_rotate_path_tail = testdata_folder + 'dbpedia50-answers-rotate-test-10-tail.pkl'"
   ]
  },
  {
   "cell_type": "markdown",
   "metadata": {},
   "source": [
    "Load the dictionary"
   ]
  },
  {
   "cell_type": "code",
   "execution_count": 23,
   "metadata": {},
   "outputs": [],
   "source": [
    "ent_labels_path = '/home/uji300/OpenKE/benchmarks/dbpedia50/entity2id.txt'\n",
    "rel_labels_path = '/home/uji300/OpenKE/benchmarks/dbpedia50/relation2id.txt'"
   ]
  },
  {
   "cell_type": "code",
   "execution_count": 24,
   "metadata": {},
   "outputs": [],
   "source": [
    "ent_labels = {}\n",
    "with open(ent_labels_path, 'rt') as f:\n",
    "    nents = int(f.readline())\n",
    "    for line in f:\n",
    "        tkns = line.split('\\t')\n",
    "        ent_labels[int(tkns[1])] = tkns[0]\n",
    "    assert(len(ent_labels) == nents)\n",
    "rel_labels = {}\n",
    "with open(rel_labels_path, 'rt') as f:\n",
    "    nrels = int(f.readline())\n",
    "    for line in f:\n",
    "        tkns = line.split('\\t')\n",
    "        rel_labels[int(tkns[1])] = tkns[0]\n",
    "    assert(len(rel_labels) == nrels)"
   ]
  },
  {
   "cell_type": "markdown",
   "metadata": {},
   "source": [
    "Load the raw test triples"
   ]
  },
  {
   "cell_type": "code",
   "execution_count": 25,
   "metadata": {},
   "outputs": [],
   "source": [
    "raw_test_triples = set()\n",
    "with open(testdata_raw_path, 'rt') as f:\n",
    "    nfacts = int(f.readline())\n",
    "    for l in f:\n",
    "        tkns = l.split(' ')\n",
    "        h = int(tkns[0])\n",
    "        t = int(tkns[1])\n",
    "        r = int(tkns[2])\n",
    "        raw_test_triples.add((h, t, r))"
   ]
  },
  {
   "cell_type": "markdown",
   "metadata": {},
   "source": [
    "Load the test files"
   ]
  },
  {
   "cell_type": "code",
   "execution_count": 26,
   "metadata": {},
   "outputs": [],
   "source": [
    "with open(testdata_transe_path_head, 'rb') as fin:\n",
    "    testdata_transe_head = pkl.load(fin) # json.load(open(testdata_transe_path, 'rt'))\n",
    "with open(testdata_transe_path_tail, 'rb') as fin:\n",
    "    testdata_transe_tail = pkl.load(fin)\n",
    "with open(testdata_complex_path_head, 'rb') as fin:\n",
    "    testdata_complex_head = pkl.load(fin) # json.load(open(testdata_complex_path, 'rt'))\n",
    "with open(testdata_complex_path_tail, 'rb') as fin:\n",
    "    testdata_complex_tail = pkl.load(fin)\n",
    "with open(testdata_rotate_path_head, 'rb') as fin:\n",
    "    testdata_rotate_head = pkl.load(fin) # json.load(open(testdata_rotate_path, 'rt'))\n",
    "with open(testdata_rotate_path_tail, 'rb') as fin:\n",
    "    testdata_rotate_tail = pkl.load(fin)"
   ]
  },
  {
   "cell_type": "markdown",
   "metadata": {},
   "source": [
    "Compute all the head and tail queries"
   ]
  },
  {
   "cell_type": "code",
   "execution_count": 27,
   "metadata": {},
   "outputs": [],
   "source": [
    "queries_tail = {}\n",
    "for name, testset in [(\"transe\", testdata_transe_tail), (\"complex\", testdata_complex_tail), (\"rotate\", testdata_rotate_tail)]:\n",
    "    for t in testset:\n",
    "        ent = t['ent']\n",
    "        rel = t['rel']\n",
    "        if (ent, rel) in queries_tail:\n",
    "            answers = queries_tail[(ent, rel)]\n",
    "            if name not in answers:\n",
    "                answers[name] = t['answers_fil']\n",
    "        else:\n",
    "            a = { name : t['answers_fil'] }            \n",
    "            queries_tail[(ent, rel)] = a\n",
    "\n",
    "queries_head = {}\n",
    "for name, testset in [(\"transe\", testdata_transe_head), (\"complex\", testdata_complex_head), (\"rotate\", testdata_rotate_head)]:\n",
    "    for t in testset:\n",
    "        ent = t['ent']\n",
    "        rel = t['rel']    \n",
    "        if (ent, rel) in queries_head:\n",
    "            answers = queries_head[(ent, rel)]\n",
    "            if name not in answers:\n",
    "                answers[name] = t['answers_fil']\n",
    "        else:\n",
    "            a = { name : t['answers_fil'] }           \n",
    "            queries_head[(ent, rel)] = a"
   ]
  },
  {
   "cell_type": "markdown",
   "metadata": {},
   "source": [
    "Copy all the queries into a single list. Also, load all the queries annotated by Unmesh"
   ]
  },
  {
   "cell_type": "code",
   "execution_count": 29,
   "metadata": {},
   "outputs": [
    {
     "name": "stdout",
     "output_type": "stream",
     "text": [
      "/var/scratch2/uji300/ijcai2021/binary-embeddings/dbpedia50/misc/annotations_unmesh_dbpedia50.json\n",
      "# Queries: 3411\n",
      "# Queries annotated by Unmesh: 600\n"
     ]
    }
   ],
   "source": [
    "queries = []\n",
    "counter = 0\n",
    "for q, a in queries_head.items():\n",
    "    queries.append({'id': counter, 'type': 0, 'ent' : q[0], 'rel' : q[1], 'answers' : a})\n",
    "    counter += 1    \n",
    "for q, a in queries_tail.items():\n",
    "    queries.append({'id': counter, 'type': 1, 'ent' : q[0], 'rel' : q[1], 'answers' : a})    \n",
    "    counter += 1\n",
    "    \n",
    "if os.path.exists(unmesh_annotations_path):\n",
    "    print(unmesh_annotations_path)\n",
    "    unmesh_queries = json.load(open(unmesh_annotations_path))\n",
    "else:\n",
    "    unmesh_queries = []\n",
    "    \n",
    "#unmesh_queries = []\n",
    "#if os.path.exists(unmesh_annotations_path):\n",
    "#    unmesh_queries_by_id = json.load(open(unmesh_annotations_path))\n",
    "#    for key, q in unmesh_queries_by_id.items():\n",
    "#        unmesh_queries.append(q)\n",
    "unmesh_queries_by_query_id = {}\n",
    "for q in unmesh_queries:\n",
    "    query = q['query']\n",
    "    # Give the same ID used for all queries\n",
    "    found = False\n",
    "    for q2 in queries:\n",
    "        if q2['type'] == query['type'] and q2['ent'] == query['ent'] and q2['rel'] == query['rel']:\n",
    "            found = True\n",
    "            query['id'] = q2['id']\n",
    "            # Compare the annotated answers by Unmesh and the total numbers.\n",
    "            unmesh_answers = q['annotated_answers']\n",
    "            total_answers = q2['answers']\n",
    "            col_answers = set()\n",
    "            for method, ans in total_answers.items():\n",
    "                for a in ans:\n",
    "                    #col_answers.add(a)\n",
    "                    col_answers.add(a['entity_id'])\n",
    "            overlap = 0\n",
    "            for a in unmesh_answers:\n",
    "                if a['entity_id'] in col_answers:\n",
    "                    overlap += 1\n",
    "            q['not_annotated_answers'] = len(col_answers) - overlap\n",
    "            assert(len(col_answers) - overlap >= 0)\n",
    "            break    \n",
    "    assert(found == True)\n",
    "    unmesh_queries_by_query_id[query['id']] = q\n",
    "#random.shuffle(unmesh_queries)\n",
    "unmesh_queries = sorted(unmesh_queries, key=cmp_to_key(lambda i1, i2: i1['not_annotated_answers'] - i2['not_annotated_answers']))\n",
    "\n",
    "print(\"# Queries:\", len(queries))\n",
    "print(\"# Queries annotated by Unmesh:\", len(unmesh_queries))"
   ]
  },
  {
   "cell_type": "markdown",
   "metadata": {},
   "source": [
    "Global data structures"
   ]
  },
  {
   "cell_type": "code",
   "execution_count": 30,
   "metadata": {},
   "outputs": [
    {
     "name": "stdout",
     "output_type": "stream",
     "text": [
      "Loading annotations from file /home/jurbani/data2/binary-embeddings/dbpedia50/annotations/gold-annotations.json\n",
      "# Processed Queries: 110\n"
     ]
    }
   ],
   "source": [
    "out = widgets.Output(layout={'padding': '5px', 'border': '1px solid black'})\n",
    "array_answers = []\n",
    "valid_annotations = True\n",
    "current_query_id = None\n",
    "processed_queries = {}\n",
    "if os.path.exists(annotations_file):\n",
    "    print(\"Loading annotations from file\", annotations_file)\n",
    "    processed_queries = json.load(open(annotations_file, 'rt'))\n",
    "    new_processed_queries = {}\n",
    "    for k, v in processed_queries.items():\n",
    "        new_processed_queries[int(k)] = v\n",
    "    processed_queries = new_processed_queries\n",
    "print(\"# Processed Queries:\", len(processed_queries))"
   ]
  },
  {
   "cell_type": "markdown",
   "metadata": {},
   "source": [
    "### Auxiliary functions"
   ]
  },
  {
   "cell_type": "code",
   "execution_count": 31,
   "metadata": {},
   "outputs": [],
   "source": [
    "def pick_next_query():\n",
    "    global current_query_id\n",
    "    global unmesh_queries\n",
    "    if len(processed_queries) < len(queries):\n",
    "        # First select the first query by Unmesh that has not yet been processed\n",
    "        found = False\n",
    "        for i, q in enumerate(unmesh_queries):\n",
    "            if q['query']['id'] not in processed_queries:\n",
    "                found = True\n",
    "                idx = q['query']['id']\n",
    "                break\n",
    "        #print(\"Select a random query that is not yet processed ...\")\n",
    "        while not found:\n",
    "            idx = random.randint(0, len(queries) - 1)\n",
    "            if idx not in processed_queries:\n",
    "                break\n",
    "        current_query_id = idx\n",
    "        return True        \n",
    "    else:\n",
    "        return None"
   ]
  },
  {
   "cell_type": "code",
   "execution_count": 32,
   "metadata": {},
   "outputs": [],
   "source": [
    "def on_change_checkbox(b):\n",
    "    owner = b['owner']\n",
    "    desc = owner.description\n",
    "    id_answer = int(owner.description[0:desc.find('.')])\n",
    "    value = b['new']\n",
    "    if value is True:\n",
    "        array_answers[id_answer]['checked']= True\n",
    "    else:\n",
    "        array_answers[id_answer]['checked']= False"
   ]
  },
  {
   "cell_type": "code",
   "execution_count": 33,
   "metadata": {},
   "outputs": [],
   "source": [
    "def dump_on_file():\n",
    "    # First check if the file exist\n",
    "    if os.path.exists(annotations_file):\n",
    "        now = str(datetime.datetime.now())\n",
    "        old_file = annotations_file + '-' + now\n",
    "        os.rename(annotations_file, old_file)\n",
    "    json.dump(processed_queries, open(annotations_file, 'wt'), indent = 6)"
   ]
  },
  {
   "cell_type": "code",
   "execution_count": 34,
   "metadata": {},
   "outputs": [],
   "source": [
    "def on_click_button(b):\n",
    "    global processed_queries\n",
    "    global current_query_id\n",
    "    global valid_annotations\n",
    "    \n",
    "    out.clear_output()\n",
    "    # Store the annotation\n",
    "    query = queries[current_query_id]\n",
    "    print(array_answers)\n",
    "    processed_queries[current_query_id] = {'query' : query, 'valid_annotations' : valid_annotations, 'annotated_answers' : array_answers, 'annotator' : annotator, 'date': str(datetime.datetime.now())}\n",
    "    dump_on_file()\n",
    "    \n",
    "    # Move to the next query\n",
    "    with out:\n",
    "        ok = pick_next_query()\n",
    "        if ok is not None:\n",
    "            query = queries[current_query_id]\n",
    "            print_query_answers(query['id'], query['type'], query['ent'], query['rel'], query['answers'])"
   ]
  },
  {
   "cell_type": "code",
   "execution_count": 35,
   "metadata": {},
   "outputs": [],
   "source": [
    "def on_click_skip_button(b):\n",
    "    global valid_annotations\n",
    "    valid_annotations = False\n",
    "    on_click_button(b)"
   ]
  },
  {
   "cell_type": "code",
   "execution_count": 36,
   "metadata": {
    "jupyter": {
     "source_hidden": true
    }
   },
   "outputs": [],
   "source": [
    "def print_query_answers(query_id, typ, ent, rel, answers):\n",
    "    global processed_queries\n",
    "    global array_answers\n",
    "    global valid_annotations\n",
    "    global unmesh_queries_by_query_id\n",
    "    valid_annotations = True\n",
    "    n_skipped = 0\n",
    "    n_ok = 0\n",
    "    n_annotated_answers = 0\n",
    "    n_tail_queries = 0\n",
    "    n_head_queries = 0\n",
    "    for _, q in processed_queries.items():\n",
    "        if q['valid_annotations']:\n",
    "            n_ok += 1\n",
    "            n_annotated_answers += len(q['annotated_answers'])\n",
    "            if q['query']['type'] == 1:\n",
    "                n_tail_queries += 1\n",
    "            else:\n",
    "                n_head_queries += 1\n",
    "        else:\n",
    "            n_skipped += 1\n",
    "    print(\"Processed queries: {} Skipped: {} Ok: {} Head: {} Tail: {}\".format(len(processed_queries), n_skipped, n_ok, n_head_queries, n_tail_queries))\n",
    "    print(\"Annnotated answers: {}\\n\".format(n_annotated_answers))\n",
    "    typ_str = 'HEAD'\n",
    "    if typ == 1:\n",
    "        typ_str = 'TAIL'\n",
    "    display(Markdown(\"***Query #{} Type {}***\".format(query_id, typ_str)))\n",
    "    lbl, link_wikidata = (ent_labels[ent], \"\") # TODO retrieve_wikidata_label(ent_labels[ent])\n",
    "    ent_str = lbl\n",
    "    if typ == 0:\n",
    "        print(\"?\", rel_labels[rel], ent_str)\n",
    "    else:\n",
    "        print(ent_str, rel_labels[rel], \"?\")\n",
    "    #print(\"\\n\")\n",
    "    \n",
    "    unmesh_annotations = None\n",
    "    if query_id in unmesh_queries_by_query_id:\n",
    "        print(\"\\nThis query was previously annotated by Unmesh\")\n",
    "        unmesh_annotations = unmesh_queries_by_query_id[query_id]['annotated_answers']\n",
    "\n",
    "    lbl_google = urllib.parse.urlencode({\"q\" : lbl})\n",
    "    google_link = \"https://www.google.com/search?hl=en&\" + lbl_google\n",
    "    display(Markdown(\"***Search on Google:*** {}\".format(google_link)))\n",
    "    print(\"\\nAnswers (striked answers are the ones that are already annotated):\")\n",
    "    array_answers = []\n",
    "    for method, answers_method in answers.items():\n",
    "        for i, answer in enumerate(answers_method):\n",
    "            a = answer['entity_id']\n",
    "            # Should I add it?\n",
    "            found = False\n",
    "            for j, array_answer in enumerate(array_answers):\n",
    "                if array_answer['entity_id'] == a:\n",
    "                    found = True\n",
    "                    array_answer['methods'].append(method)\n",
    "                    break                    \n",
    "            if not found:\n",
    "                # Is the answer known to be true?\n",
    "                found = False\n",
    "                if typ == 0 and (a, ent, rel) in raw_test_triples:\n",
    "                    found = True\n",
    "                if typ == 1 and (ent, a, rel) in raw_test_triples:\n",
    "                    found = True\n",
    "                if found:\n",
    "                    array_answers.append({'entity_id' : a, 'checked' : True, 'methods': [method], 'enabled' : False})\n",
    "                else:\n",
    "                    if unmesh_annotations is not None:\n",
    "                        # Search if the entity is mentioned\n",
    "                        for unmesh_annotation in unmesh_annotations:\n",
    "                            if unmesh_annotation['entity_id'] == a:\n",
    "                                found = True\n",
    "                                if unmesh_annotation['checked'] == True:\n",
    "                                    array_answers.append({'entity_id' : a, 'checked' : True, 'methods': [method], 'enabled' : False})\n",
    "                                else:\n",
    "                                    array_answers.append({'entity_id' : a, 'checked' : False, 'methods': [method], 'enabled' : False})\n",
    "                                break                                \n",
    "                    if not found:\n",
    "                        array_answers.append({'entity_id' : a, 'checked' : False, 'methods': [method], 'enabled' : True})\n",
    "                        \n",
    "    for i, a in enumerate(array_answers):\n",
    "        #sleep(1) # Some sleeping is necessary for wikidata\n",
    "        lbl, link_wikidata = (ent_labels[a['entity_id']],'') # TODO retrieve_wikidata_label(ent_labels[a['entity_id']])\n",
    "        #a_str = '[' + lbl + ' <a href=' + link_wikidata + '>' + link_wikidata + '</a> (' + ent_labels[a['entity_id']] + ')]'\n",
    "        a_str = lbl\n",
    "        desc = \"{}. {} ({}) methods={}\".format(i, a_str, a['entity_id'], a['methods'])\n",
    "        if a['enabled'] == False:\n",
    "            box = widgets.Checkbox(a['checked'], id=len(array_answers), description=\"<strike>\" + desc + \"</strike>\", layout=Layout(width='2000px', height='20px'), indent=False, disabled=True)\n",
    "        else:\n",
    "            box = widgets.Checkbox(False, id=len(array_answers), description=desc, layout=Layout(width='2000px', height='20px'), indent=False)\n",
    "        box.observe(on_change_checkbox, names=\"value\")\n",
    "        display(box)\n",
    "        if a['enabled'] == True:\n",
    "            lbl_google = urllib.parse.urlencode({\"q\" : lbl})\n",
    "            google_link = \"https://www.google.com/search?hl=en&\" + lbl_google\n",
    "            lbl_wikipedia = urllib.parse.urlencode({\"search\" : lbl})\n",
    "            wikipedia_link = \"https://en.wikipedia.org/w/index.php?\" + lbl_wikipedia\n",
    "            display(Markdown(\"&ensp;&ensp;&ensp;{} {}\".format(google_link, wikipedia_link)))\n",
    "\n",
    "    print(\"\\n\")\n",
    "    display(Markdown(\"***Known answers from the testset:***\"))\n",
    "    known_answers = []\n",
    "    for triple in raw_test_triples: #(h,t,r)\n",
    "        if triple[2] == rel:\n",
    "            if typ == 0 and triple[1] == ent:\n",
    "                known_answers.append(triple[0])\n",
    "            if typ == 1 and triple[0] == ent:\n",
    "                known_answers.append(triple[1])\n",
    "    assert(len(known_answers) > 0)\n",
    "    for known_answer in known_answers:\n",
    "        #sleep(1) # Some sleeping is necessary for wikidata\n",
    "        lbl, link_wikidata = (ent_labels[known_answer],'') # retrieve_wikidata_label(ent_labels[known_answer])\n",
    "        a_str = lbl# '[' + lbl + ' ' + link_wikidata + ' (' + ent_labels[known_answer] + ')]'   \n",
    "        desc = \"{} ({})\".format(a_str, known_answer)\n",
    "        print(desc)"
   ]
  },
  {
   "cell_type": "markdown",
   "metadata": {},
   "source": [
    "### Start the annotation process"
   ]
  },
  {
   "cell_type": "code",
   "execution_count": 37,
   "metadata": {},
   "outputs": [
    {
     "data": {
      "application/vnd.jupyter.widget-view+json": {
       "model_id": "449fe71f480f44bb88cb8a14beadf0f2",
       "version_major": 2,
       "version_minor": 0
      },
      "text/plain": [
       "Output(layout=Layout(border='1px solid black', padding='5px'))"
      ]
     },
     "metadata": {},
     "output_type": "display_data"
    },
    {
     "data": {
      "application/vnd.jupyter.widget-view+json": {
       "model_id": "ec96fdd6bbe24938b2090e2cb20e1ded",
       "version_major": 2,
       "version_minor": 0
      },
      "text/plain": [
       "Button(description='Submit', style=ButtonStyle(font_weight='bf'))"
      ]
     },
     "metadata": {},
     "output_type": "display_data"
    },
    {
     "data": {
      "application/vnd.jupyter.widget-view+json": {
       "model_id": "cd0034d2a98847b7af5d4f5511f9bf07",
       "version_major": 2,
       "version_minor": 0
      },
      "text/plain": [
       "Button(description='Skip', style=ButtonStyle(font_weight='bf'))"
      ]
     },
     "metadata": {},
     "output_type": "display_data"
    },
    {
     "name": "stdout",
     "output_type": "stream",
     "text": [
      "[{'entity_id': 2539, 'checked': True, 'methods': ['transe', 'complex'], 'enabled': False}, {'entity_id': 20240, 'checked': True, 'methods': ['transe', 'complex'], 'enabled': False}, {'entity_id': 11185, 'checked': True, 'methods': ['transe', 'complex'], 'enabled': False}, {'entity_id': 9993, 'checked': False, 'methods': ['transe'], 'enabled': True}, {'entity_id': 8701, 'checked': True, 'methods': ['transe', 'complex', 'rotate'], 'enabled': False}, {'entity_id': 3197, 'checked': True, 'methods': ['transe', 'complex', 'rotate'], 'enabled': False}, {'entity_id': 7205, 'checked': True, 'methods': ['transe'], 'enabled': False}, {'entity_id': 22440, 'checked': False, 'methods': ['transe', 'complex'], 'enabled': True}, {'entity_id': 9870, 'checked': False, 'methods': ['transe'], 'enabled': True}, {'entity_id': 7877, 'checked': False, 'methods': ['transe'], 'enabled': True}, {'entity_id': 7329, 'checked': True, 'methods': ['complex'], 'enabled': True}, {'entity_id': 6679, 'checked': True, 'methods': ['complex', 'rotate'], 'enabled': False}, {'entity_id': 1627, 'checked': True, 'methods': ['complex', 'rotate'], 'enabled': False}, {'entity_id': 22933, 'checked': False, 'methods': ['complex', 'rotate'], 'enabled': False}, {'entity_id': 22019, 'checked': True, 'methods': ['rotate'], 'enabled': False}, {'entity_id': 6579, 'checked': True, 'methods': ['rotate'], 'enabled': False}, {'entity_id': 16269, 'checked': True, 'methods': ['rotate'], 'enabled': False}, {'entity_id': 14297, 'checked': True, 'methods': ['rotate'], 'enabled': False}, {'entity_id': 7228, 'checked': False, 'methods': ['rotate'], 'enabled': True}]\n"
     ]
    },
    {
     "ename": "PermissionError",
     "evalue": "[Errno 13] Permission denied: '/home/jurbani/data2/binary-embeddings/dbpedia50/annotations/gold-annotations.json' -> '/home/jurbani/data2/binary-embeddings/dbpedia50/annotations/gold-annotations.json-2021-01-27 22:46:23.003586'",
     "output_type": "error",
     "traceback": [
      "\u001b[0;31m---------------------------------------------------------------------------\u001b[0m",
      "\u001b[0;31mPermissionError\u001b[0m                           Traceback (most recent call last)",
      "\u001b[0;32m<ipython-input-34-7e22bdc72dff>\u001b[0m in \u001b[0;36mon_click_button\u001b[0;34m(b)\u001b[0m\n\u001b[1;32m      9\u001b[0m     \u001b[0mprint\u001b[0m\u001b[0;34m(\u001b[0m\u001b[0marray_answers\u001b[0m\u001b[0;34m)\u001b[0m\u001b[0;34m\u001b[0m\u001b[0;34m\u001b[0m\u001b[0m\n\u001b[1;32m     10\u001b[0m     \u001b[0mprocessed_queries\u001b[0m\u001b[0;34m[\u001b[0m\u001b[0mcurrent_query_id\u001b[0m\u001b[0;34m]\u001b[0m \u001b[0;34m=\u001b[0m \u001b[0;34m{\u001b[0m\u001b[0;34m'query'\u001b[0m \u001b[0;34m:\u001b[0m \u001b[0mquery\u001b[0m\u001b[0;34m,\u001b[0m \u001b[0;34m'valid_annotations'\u001b[0m \u001b[0;34m:\u001b[0m \u001b[0mvalid_annotations\u001b[0m\u001b[0;34m,\u001b[0m \u001b[0;34m'annotated_answers'\u001b[0m \u001b[0;34m:\u001b[0m \u001b[0marray_answers\u001b[0m\u001b[0;34m,\u001b[0m \u001b[0;34m'annotator'\u001b[0m \u001b[0;34m:\u001b[0m \u001b[0mannotator\u001b[0m\u001b[0;34m,\u001b[0m \u001b[0;34m'date'\u001b[0m\u001b[0;34m:\u001b[0m \u001b[0mstr\u001b[0m\u001b[0;34m(\u001b[0m\u001b[0mdatetime\u001b[0m\u001b[0;34m.\u001b[0m\u001b[0mdatetime\u001b[0m\u001b[0;34m.\u001b[0m\u001b[0mnow\u001b[0m\u001b[0;34m(\u001b[0m\u001b[0;34m)\u001b[0m\u001b[0;34m)\u001b[0m\u001b[0;34m}\u001b[0m\u001b[0;34m\u001b[0m\u001b[0;34m\u001b[0m\u001b[0m\n\u001b[0;32m---> 11\u001b[0;31m     \u001b[0mdump_on_file\u001b[0m\u001b[0;34m(\u001b[0m\u001b[0;34m)\u001b[0m\u001b[0;34m\u001b[0m\u001b[0;34m\u001b[0m\u001b[0m\n\u001b[0m\u001b[1;32m     12\u001b[0m \u001b[0;34m\u001b[0m\u001b[0m\n\u001b[1;32m     13\u001b[0m     \u001b[0;31m# Move to the next query\u001b[0m\u001b[0;34m\u001b[0m\u001b[0;34m\u001b[0m\u001b[0;34m\u001b[0m\u001b[0m\n",
      "\u001b[0;32m<ipython-input-33-3ad590ba3a4c>\u001b[0m in \u001b[0;36mdump_on_file\u001b[0;34m()\u001b[0m\n\u001b[1;32m      4\u001b[0m         \u001b[0mnow\u001b[0m \u001b[0;34m=\u001b[0m \u001b[0mstr\u001b[0m\u001b[0;34m(\u001b[0m\u001b[0mdatetime\u001b[0m\u001b[0;34m.\u001b[0m\u001b[0mdatetime\u001b[0m\u001b[0;34m.\u001b[0m\u001b[0mnow\u001b[0m\u001b[0;34m(\u001b[0m\u001b[0;34m)\u001b[0m\u001b[0;34m)\u001b[0m\u001b[0;34m\u001b[0m\u001b[0;34m\u001b[0m\u001b[0m\n\u001b[1;32m      5\u001b[0m         \u001b[0mold_file\u001b[0m \u001b[0;34m=\u001b[0m \u001b[0mannotations_file\u001b[0m \u001b[0;34m+\u001b[0m \u001b[0;34m'-'\u001b[0m \u001b[0;34m+\u001b[0m \u001b[0mnow\u001b[0m\u001b[0;34m\u001b[0m\u001b[0;34m\u001b[0m\u001b[0m\n\u001b[0;32m----> 6\u001b[0;31m         \u001b[0mos\u001b[0m\u001b[0;34m.\u001b[0m\u001b[0mrename\u001b[0m\u001b[0;34m(\u001b[0m\u001b[0mannotations_file\u001b[0m\u001b[0;34m,\u001b[0m \u001b[0mold_file\u001b[0m\u001b[0;34m)\u001b[0m\u001b[0;34m\u001b[0m\u001b[0;34m\u001b[0m\u001b[0m\n\u001b[0m\u001b[1;32m      7\u001b[0m     \u001b[0mjson\u001b[0m\u001b[0;34m.\u001b[0m\u001b[0mdump\u001b[0m\u001b[0;34m(\u001b[0m\u001b[0mprocessed_queries\u001b[0m\u001b[0;34m,\u001b[0m \u001b[0mopen\u001b[0m\u001b[0;34m(\u001b[0m\u001b[0mannotations_file\u001b[0m\u001b[0;34m,\u001b[0m \u001b[0;34m'wt'\u001b[0m\u001b[0;34m)\u001b[0m\u001b[0;34m,\u001b[0m \u001b[0mindent\u001b[0m \u001b[0;34m=\u001b[0m \u001b[0;36m6\u001b[0m\u001b[0;34m)\u001b[0m\u001b[0;34m\u001b[0m\u001b[0;34m\u001b[0m\u001b[0m\n",
      "\u001b[0;31mPermissionError\u001b[0m: [Errno 13] Permission denied: '/home/jurbani/data2/binary-embeddings/dbpedia50/annotations/gold-annotations.json' -> '/home/jurbani/data2/binary-embeddings/dbpedia50/annotations/gold-annotations.json-2021-01-27 22:46:23.003586'"
     ]
    }
   ],
   "source": [
    "out.clear_output()\n",
    "ok = pick_next_query()\n",
    "with out:    \n",
    "    if ok is not None:\n",
    "        query = queries[current_query_id]\n",
    "        print_query_answers(query['id'], query['type'], query['ent'], query['rel'], query['answers'])\n",
    "b = widgets.Button(description='Submit', style=ButtonStyle(font_weight='bf'))\n",
    "b.on_click(on_click_button)\n",
    "b_skip = widgets.Button(description='Skip', style=ButtonStyle(font_weight='bf'))\n",
    "b_skip.on_click(on_click_skip_button)\n",
    "display(out)\n",
    "display(b)\n",
    "display(b_skip)"
   ]
  },
  {
   "cell_type": "code",
   "execution_count": null,
   "metadata": {},
   "outputs": [],
   "source": []
  },
  {
   "cell_type": "code",
   "execution_count": null,
   "metadata": {},
   "outputs": [],
   "source": []
  }
 ],
 "metadata": {
  "kernelspec": {
   "display_name": "Python 3",
   "language": "python",
   "name": "python3"
  },
  "language_info": {
   "codemirror_mode": {
    "name": "ipython",
    "version": 3
   },
   "file_extension": ".py",
   "mimetype": "text/x-python",
   "name": "python",
   "nbconvert_exporter": "python",
   "pygments_lexer": "ipython3",
   "version": "3.7.1"
  }
 },
 "nbformat": 4,
 "nbformat_minor": 4
}
